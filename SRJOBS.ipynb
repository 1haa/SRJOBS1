{
 "cells": [
  {
   "cell_type": "code",
   "execution_count": 127,
   "metadata": {},
   "outputs": [],
   "source": [
    "import pandas as pd\n",
    "import numpy as np\n",
    "import matplotlib.pyplot as plt\n",
    "Jobs = pd.read_csv('JobPrueba.csv', sep=';', error_bad_lines=False, encoding=\"latin-1\")\n",
    "Jobs.columns = ['Job_Id', 'profesion','Conocimientos','Funciones']\n",
    "\n",
    "users = pd.read_csv('UserPrueba.csv', sep=';', error_bad_lines=False, encoding=\"latin-1\")\n",
    "users.columns = ['User_Id', 'Profesion', 'Conocimientos','Funciones']\n",
    "\n",
    "ratings = pd.read_csv('JOB_RATING1.csv', sep=';', error_bad_lines=False, encoding=\"latin-1\")\n",
    "ratings.columns = ['User_Id', 'Job_Id','Peso']\n"
   ]
  },
  {
   "cell_type": "code",
   "execution_count": 128,
   "metadata": {},
   "outputs": [
    {
     "data": {
      "text/html": [
       "<div>\n",
       "<style scoped>\n",
       "    .dataframe tbody tr th:only-of-type {\n",
       "        vertical-align: middle;\n",
       "    }\n",
       "\n",
       "    .dataframe tbody tr th {\n",
       "        vertical-align: top;\n",
       "    }\n",
       "\n",
       "    .dataframe thead th {\n",
       "        text-align: right;\n",
       "    }\n",
       "</style>\n",
       "<table border=\"1\" class=\"dataframe\">\n",
       "  <thead>\n",
       "    <tr style=\"text-align: right;\">\n",
       "      <th></th>\n",
       "      <th>User_Id</th>\n",
       "      <th>Job_Id</th>\n",
       "      <th>Peso</th>\n",
       "      <th>profesion</th>\n",
       "      <th>Conocimientos</th>\n",
       "      <th>Funciones</th>\n",
       "    </tr>\n",
       "  </thead>\n",
       "  <tbody>\n",
       "    <tr>\n",
       "      <th>0</th>\n",
       "      <td>0</td>\n",
       "      <td>1</td>\n",
       "      <td>24006.071</td>\n",
       "      <td>TÃ©cnico en Soporte</td>\n",
       "      <td>Microsoft Excel</td>\n",
       "      <td>Desarrollar soluciones a los temas crÃ­ticos p...</td>\n",
       "    </tr>\n",
       "    <tr>\n",
       "      <th>1</th>\n",
       "      <td>1</td>\n",
       "      <td>1</td>\n",
       "      <td>12084.457</td>\n",
       "      <td>TÃ©cnico en Soporte</td>\n",
       "      <td>Microsoft Excel</td>\n",
       "      <td>Desarrollar soluciones a los temas crÃ­ticos p...</td>\n",
       "    </tr>\n",
       "    <tr>\n",
       "      <th>2</th>\n",
       "      <td>3</td>\n",
       "      <td>1</td>\n",
       "      <td>24506.664</td>\n",
       "      <td>TÃ©cnico en Soporte</td>\n",
       "      <td>Microsoft Excel</td>\n",
       "      <td>Desarrollar soluciones a los temas crÃ­ticos p...</td>\n",
       "    </tr>\n",
       "    <tr>\n",
       "      <th>3</th>\n",
       "      <td>4</td>\n",
       "      <td>1</td>\n",
       "      <td>25006.533</td>\n",
       "      <td>TÃ©cnico en Soporte</td>\n",
       "      <td>Microsoft Excel</td>\n",
       "      <td>Desarrollar soluciones a los temas crÃ­ticos p...</td>\n",
       "    </tr>\n",
       "    <tr>\n",
       "      <th>4</th>\n",
       "      <td>6</td>\n",
       "      <td>1</td>\n",
       "      <td>12579.143</td>\n",
       "      <td>TÃ©cnico en Soporte</td>\n",
       "      <td>Microsoft Excel</td>\n",
       "      <td>Desarrollar soluciones a los temas crÃ­ticos p...</td>\n",
       "    </tr>\n",
       "  </tbody>\n",
       "</table>\n",
       "</div>"
      ],
      "text/plain": [
       "   User_Id  Job_Id      Peso            profesion    Conocimientos  \\\n",
       "0        0       1 24006.071  TÃ©cnico en Soporte  Microsoft Excel   \n",
       "1        1       1 12084.457  TÃ©cnico en Soporte  Microsoft Excel   \n",
       "2        3       1 24506.664  TÃ©cnico en Soporte  Microsoft Excel   \n",
       "3        4       1 25006.533  TÃ©cnico en Soporte  Microsoft Excel   \n",
       "4        6       1 12579.143  TÃ©cnico en Soporte  Microsoft Excel   \n",
       "\n",
       "                                           Funciones  \n",
       "0  Desarrollar soluciones a los temas crÃ­ticos p...  \n",
       "1  Desarrollar soluciones a los temas crÃ­ticos p...  \n",
       "2  Desarrollar soluciones a los temas crÃ­ticos p...  \n",
       "3  Desarrollar soluciones a los temas crÃ­ticos p...  \n",
       "4  Desarrollar soluciones a los temas crÃ­ticos p...  "
      ]
     },
     "execution_count": 128,
     "metadata": {},
     "output_type": "execute_result"
    }
   ],
   "source": [
    "combine_Jobs_rating = pd.merge(ratings, Jobs, on='Job_Id')\n",
    "columns = []\n",
    "combine_Jobs_rating = combine_Jobs_rating.drop(columns, axis=1)\n",
    "combine_Jobs_rating.head()"
   ]
  },
  {
   "cell_type": "code",
   "execution_count": 129,
   "metadata": {},
   "outputs": [
    {
     "data": {
      "text/html": [
       "<div>\n",
       "<style scoped>\n",
       "    .dataframe tbody tr th:only-of-type {\n",
       "        vertical-align: middle;\n",
       "    }\n",
       "\n",
       "    .dataframe tbody tr th {\n",
       "        vertical-align: top;\n",
       "    }\n",
       "\n",
       "    .dataframe thead th {\n",
       "        text-align: right;\n",
       "    }\n",
       "</style>\n",
       "<table border=\"1\" class=\"dataframe\">\n",
       "  <thead>\n",
       "    <tr style=\"text-align: right;\">\n",
       "      <th></th>\n",
       "      <th>profesion</th>\n",
       "      <th>PromedioRating</th>\n",
       "    </tr>\n",
       "  </thead>\n",
       "  <tbody>\n",
       "    <tr>\n",
       "      <th>0</th>\n",
       "      <td>Asistente Contable TÃ©cnico o Universitario Eg...</td>\n",
       "      <td>10</td>\n",
       "    </tr>\n",
       "    <tr>\n",
       "      <th>1</th>\n",
       "      <td>Auxiliar Contable y Administrativo</td>\n",
       "      <td>7</td>\n",
       "    </tr>\n",
       "    <tr>\n",
       "      <th>2</th>\n",
       "      <td>Chofer A2B</td>\n",
       "      <td>6</td>\n",
       "    </tr>\n",
       "    <tr>\n",
       "      <th>3</th>\n",
       "      <td>Jefe de ProducciÃ³n</td>\n",
       "      <td>9</td>\n",
       "    </tr>\n",
       "    <tr>\n",
       "      <th>4</th>\n",
       "      <td>Practicante de AdministraciÃ³n Apoyo</td>\n",
       "      <td>9</td>\n",
       "    </tr>\n",
       "  </tbody>\n",
       "</table>\n",
       "</div>"
      ],
      "text/plain": [
       "                                           profesion  PromedioRating\n",
       "0  Asistente Contable TÃ©cnico o Universitario Eg...              10\n",
       "1                 Auxiliar Contable y Administrativo               7\n",
       "2                                         Chofer A2B               6\n",
       "3                                Jefe de ProducciÃ³n               9\n",
       "4               Practicante de AdministraciÃ³n Apoyo               9"
      ]
     },
     "execution_count": 129,
     "metadata": {},
     "output_type": "execute_result"
    }
   ],
   "source": [
    "combine_Jobs_rating = combine_Jobs_rating.dropna(axis = 0, subset = ['profesion'])\n",
    "\n",
    "Jobs_ratingCount = (combine_Jobs_rating.\n",
    "     groupby(by = ['profesion'])['Peso'].\n",
    "     count().\n",
    "     reset_index().\n",
    "     rename(columns = {'Peso': 'PromedioRating'})\n",
    "     [['profesion', 'PromedioRating']]\n",
    "    )\n",
    "Jobs_ratingCount.head()"
   ]
  },
  {
   "cell_type": "code",
   "execution_count": 130,
   "metadata": {},
   "outputs": [
    {
     "data": {
      "text/html": [
       "<div>\n",
       "<style scoped>\n",
       "    .dataframe tbody tr th:only-of-type {\n",
       "        vertical-align: middle;\n",
       "    }\n",
       "\n",
       "    .dataframe tbody tr th {\n",
       "        vertical-align: top;\n",
       "    }\n",
       "\n",
       "    .dataframe thead th {\n",
       "        text-align: right;\n",
       "    }\n",
       "</style>\n",
       "<table border=\"1\" class=\"dataframe\">\n",
       "  <thead>\n",
       "    <tr style=\"text-align: right;\">\n",
       "      <th></th>\n",
       "      <th>User_Id</th>\n",
       "      <th>Job_Id</th>\n",
       "      <th>Peso</th>\n",
       "      <th>profesion</th>\n",
       "      <th>Conocimientos</th>\n",
       "      <th>Funciones</th>\n",
       "      <th>PromedioRating</th>\n",
       "    </tr>\n",
       "  </thead>\n",
       "  <tbody>\n",
       "    <tr>\n",
       "      <th>0</th>\n",
       "      <td>0</td>\n",
       "      <td>1</td>\n",
       "      <td>24006.071</td>\n",
       "      <td>TÃ©cnico en Soporte</td>\n",
       "      <td>Microsoft Excel</td>\n",
       "      <td>Desarrollar soluciones a los temas crÃ­ticos p...</td>\n",
       "      <td>6</td>\n",
       "    </tr>\n",
       "    <tr>\n",
       "      <th>1</th>\n",
       "      <td>1</td>\n",
       "      <td>1</td>\n",
       "      <td>12084.457</td>\n",
       "      <td>TÃ©cnico en Soporte</td>\n",
       "      <td>Microsoft Excel</td>\n",
       "      <td>Desarrollar soluciones a los temas crÃ­ticos p...</td>\n",
       "      <td>6</td>\n",
       "    </tr>\n",
       "    <tr>\n",
       "      <th>2</th>\n",
       "      <td>3</td>\n",
       "      <td>1</td>\n",
       "      <td>24506.664</td>\n",
       "      <td>TÃ©cnico en Soporte</td>\n",
       "      <td>Microsoft Excel</td>\n",
       "      <td>Desarrollar soluciones a los temas crÃ­ticos p...</td>\n",
       "      <td>6</td>\n",
       "    </tr>\n",
       "    <tr>\n",
       "      <th>3</th>\n",
       "      <td>4</td>\n",
       "      <td>1</td>\n",
       "      <td>25006.533</td>\n",
       "      <td>TÃ©cnico en Soporte</td>\n",
       "      <td>Microsoft Excel</td>\n",
       "      <td>Desarrollar soluciones a los temas crÃ­ticos p...</td>\n",
       "      <td>6</td>\n",
       "    </tr>\n",
       "    <tr>\n",
       "      <th>4</th>\n",
       "      <td>6</td>\n",
       "      <td>1</td>\n",
       "      <td>12579.143</td>\n",
       "      <td>TÃ©cnico en Soporte</td>\n",
       "      <td>Microsoft Excel</td>\n",
       "      <td>Desarrollar soluciones a los temas crÃ­ticos p...</td>\n",
       "      <td>6</td>\n",
       "    </tr>\n",
       "  </tbody>\n",
       "</table>\n",
       "</div>"
      ],
      "text/plain": [
       "   User_Id  Job_Id      Peso            profesion    Conocimientos  \\\n",
       "0        0       1 24006.071  TÃ©cnico en Soporte  Microsoft Excel   \n",
       "1        1       1 12084.457  TÃ©cnico en Soporte  Microsoft Excel   \n",
       "2        3       1 24506.664  TÃ©cnico en Soporte  Microsoft Excel   \n",
       "3        4       1 25006.533  TÃ©cnico en Soporte  Microsoft Excel   \n",
       "4        6       1 12579.143  TÃ©cnico en Soporte  Microsoft Excel   \n",
       "\n",
       "                                           Funciones  PromedioRating  \n",
       "0  Desarrollar soluciones a los temas crÃ­ticos p...               6  \n",
       "1  Desarrollar soluciones a los temas crÃ­ticos p...               6  \n",
       "2  Desarrollar soluciones a los temas crÃ­ticos p...               6  \n",
       "3  Desarrollar soluciones a los temas crÃ­ticos p...               6  \n",
       "4  Desarrollar soluciones a los temas crÃ­ticos p...               6  "
      ]
     },
     "execution_count": 130,
     "metadata": {},
     "output_type": "execute_result"
    }
   ],
   "source": [
    "rating_with_totalRatingCount = combine_Jobs_rating.merge(Jobs_ratingCount, left_on = 'profesion', right_on = 'profesion', how = 'left')\n",
    "rating_with_totalRatingCount.head()"
   ]
  },
  {
   "cell_type": "code",
   "execution_count": 131,
   "metadata": {},
   "outputs": [
    {
     "name": "stdout",
     "output_type": "stream",
     "text": [
      "count    9.000\n",
      "mean     8.444\n",
      "std      1.667\n",
      "min      6.000\n",
      "25%      7.000\n",
      "50%      9.000\n",
      "75%     10.000\n",
      "max     10.000\n",
      "Name: PromedioRating, dtype: float64\n"
     ]
    }
   ],
   "source": [
    "pd.set_option('display.float_format', lambda x: '%.3f' % x)\n",
    "print(book_ratingCount['PromedioRating'].describe())"
   ]
  },
  {
   "cell_type": "code",
   "execution_count": 132,
   "metadata": {},
   "outputs": [
    {
     "name": "stdout",
     "output_type": "stream",
     "text": [
      "0.900   10.000\n",
      "0.910   10.000\n",
      "0.920   10.000\n",
      "0.930   10.000\n",
      "0.940   10.000\n",
      "0.950   10.000\n",
      "0.960   10.000\n",
      "0.970   10.000\n",
      "0.980   10.000\n",
      "0.990   10.000\n",
      "Name: PromedioRating, dtype: float64\n"
     ]
    }
   ],
   "source": [
    "print(book_ratingCount['PromedioRating'].quantile(np.arange(.9, 1, .01)))"
   ]
  },
  {
   "cell_type": "code",
   "execution_count": 133,
   "metadata": {},
   "outputs": [
    {
     "data": {
      "text/html": [
       "<div>\n",
       "<style scoped>\n",
       "    .dataframe tbody tr th:only-of-type {\n",
       "        vertical-align: middle;\n",
       "    }\n",
       "\n",
       "    .dataframe tbody tr th {\n",
       "        vertical-align: top;\n",
       "    }\n",
       "\n",
       "    .dataframe thead th {\n",
       "        text-align: right;\n",
       "    }\n",
       "</style>\n",
       "<table border=\"1\" class=\"dataframe\">\n",
       "  <thead>\n",
       "    <tr style=\"text-align: right;\">\n",
       "      <th></th>\n",
       "      <th>User_Id</th>\n",
       "      <th>Job_Id</th>\n",
       "      <th>Peso</th>\n",
       "      <th>profesion</th>\n",
       "      <th>Conocimientos</th>\n",
       "      <th>Funciones</th>\n",
       "      <th>PromedioRating</th>\n",
       "    </tr>\n",
       "  </thead>\n",
       "  <tbody>\n",
       "    <tr>\n",
       "      <th>6</th>\n",
       "      <td>0</td>\n",
       "      <td>2</td>\n",
       "      <td>6005.638</td>\n",
       "      <td>Vendedores rotativos para tiendas Baby Infanti...</td>\n",
       "      <td>php</td>\n",
       "      <td>No hay experiencia</td>\n",
       "      <td>10</td>\n",
       "    </tr>\n",
       "    <tr>\n",
       "      <th>7</th>\n",
       "      <td>1</td>\n",
       "      <td>2</td>\n",
       "      <td>4030.533</td>\n",
       "      <td>Vendedores rotativos para tiendas Baby Infanti...</td>\n",
       "      <td>php</td>\n",
       "      <td>No hay experiencia</td>\n",
       "      <td>10</td>\n",
       "    </tr>\n",
       "    <tr>\n",
       "      <th>8</th>\n",
       "      <td>2</td>\n",
       "      <td>2</td>\n",
       "      <td>8135.930</td>\n",
       "      <td>Vendedores rotativos para tiendas Baby Infanti...</td>\n",
       "      <td>php</td>\n",
       "      <td>No hay experiencia</td>\n",
       "      <td>10</td>\n",
       "    </tr>\n",
       "    <tr>\n",
       "      <th>9</th>\n",
       "      <td>3</td>\n",
       "      <td>2</td>\n",
       "      <td>3507.858</td>\n",
       "      <td>Vendedores rotativos para tiendas Baby Infanti...</td>\n",
       "      <td>php</td>\n",
       "      <td>No hay experiencia</td>\n",
       "      <td>10</td>\n",
       "    </tr>\n",
       "    <tr>\n",
       "      <th>10</th>\n",
       "      <td>4</td>\n",
       "      <td>2</td>\n",
       "      <td>8337.708</td>\n",
       "      <td>Vendedores rotativos para tiendas Baby Infanti...</td>\n",
       "      <td>php</td>\n",
       "      <td>No hay experiencia</td>\n",
       "      <td>10</td>\n",
       "    </tr>\n",
       "  </tbody>\n",
       "</table>\n",
       "</div>"
      ],
      "text/plain": [
       "    User_Id  Job_Id     Peso  \\\n",
       "6         0       2 6005.638   \n",
       "7         1       2 4030.533   \n",
       "8         2       2 8135.930   \n",
       "9         3       2 3507.858   \n",
       "10        4       2 8337.708   \n",
       "\n",
       "                                            profesion Conocimientos  \\\n",
       "6   Vendedores rotativos para tiendas Baby Infanti...           php   \n",
       "7   Vendedores rotativos para tiendas Baby Infanti...           php   \n",
       "8   Vendedores rotativos para tiendas Baby Infanti...           php   \n",
       "9   Vendedores rotativos para tiendas Baby Infanti...           php   \n",
       "10  Vendedores rotativos para tiendas Baby Infanti...           php   \n",
       "\n",
       "             Funciones  PromedioRating  \n",
       "6   No hay experiencia              10  \n",
       "7   No hay experiencia              10  \n",
       "8   No hay experiencia              10  \n",
       "9   No hay experiencia              10  \n",
       "10  No hay experiencia              10  "
      ]
     },
     "execution_count": 133,
     "metadata": {},
     "output_type": "execute_result"
    }
   ],
   "source": [
    "popularity_threshold = 10\n",
    "rating_popular_Jobs = rating_with_totalRatingCount.query('PromedioRating >= @popularity_threshold')\n",
    "rating_popular_Jobs.head()"
   ]
  },
  {
   "cell_type": "code",
   "execution_count": 109,
   "metadata": {},
   "outputs": [],
   "source": [
    "from scipy.sparse import csr_matrix"
   ]
  },
  {
   "cell_type": "code",
   "execution_count": 134,
   "metadata": {},
   "outputs": [],
   "source": [
    "user_rating = rating_popular_Jobs.drop_duplicates(['User_Id', 'profesion'])\n",
    "rating_pivot = rating_popular_Jobs.pivot(index = 'profesion', columns = 'User_Id', values = 'Peso').fillna(0)\n",
    "rating_matrix = csr_matrix(rating_pivot.values)\n",
    "\n"
   ]
  },
  {
   "cell_type": "code",
   "execution_count": 135,
   "metadata": {},
   "outputs": [
    {
     "name": "stdout",
     "output_type": "stream",
     "text": [
      "  (0, 0)\t4808.245367\n",
      "  (0, 1)\t1730.3719190000002\n",
      "  (0, 2)\t6103.869859\n",
      "  (0, 3)\t3078.713604\n",
      "  (0, 4)\t5004.267611\n",
      "  (0, 5)\t8357.814656\n",
      "  (0, 6)\t2299.786695\n",
      "  (0, 7)\t25704.45497\n",
      "  (0, 8)\t5146.4311689999995\n",
      "  (0, 9)\t25775.23729\n",
      "  (1, 0)\t4824.5048289999995\n",
      "  (1, 1)\t3480.1978240000003\n",
      "  (1, 2)\t8145.451023999999\n",
      "  (1, 3)\t4155.304536\n",
      "  (1, 4)\t4174.791875\n",
      "  (1, 5)\t12548.25741\n",
      "  (1, 6)\t4271.258686\n",
      "  (1, 7)\t5142.313979\n",
      "  (1, 8)\t4294.822217\n",
      "  (1, 9)\t25777.43452\n",
      "  (2, 0)\t6005.637606\n",
      "  (2, 1)\t4030.5328229999996\n",
      "  (2, 2)\t8135.929717\n",
      "  (2, 3)\t3507.8576\n",
      "  (2, 4)\t8337.708174\n",
      "  (2, 5)\t12532.87684\n",
      "  (2, 6)\t3601.641536\n",
      "  (2, 7)\t25703.356359999998\n",
      "  (2, 8)\t8575.283952\n",
      "  (2, 9)\t25774.13868\n"
     ]
    }
   ],
   "source": [
    "print rating_matrix"
   ]
  },
  {
   "cell_type": "code",
   "execution_count": 136,
   "metadata": {},
   "outputs": [],
   "source": [
    "from sklearn.neighbors import NearestNeighbors"
   ]
  },
  {
   "cell_type": "code",
   "execution_count": 137,
   "metadata": {},
   "outputs": [
    {
     "data": {
      "text/plain": [
       "NearestNeighbors(algorithm='brute', leaf_size=30, metric='cosine',\n",
       "         metric_params=None, n_jobs=1, n_neighbors=5, p=2, radius=1.0)"
      ]
     },
     "execution_count": 137,
     "metadata": {},
     "output_type": "execute_result"
    }
   ],
   "source": [
    "model_knn = NearestNeighbors(metric = 'cosine', algorithm = 'brute')\n",
    "model_knn.fit(rating_matrix)"
   ]
  },
  {
   "cell_type": "code",
   "execution_count": 138,
   "metadata": {},
   "outputs": [
    {
     "name": "stdout",
     "output_type": "stream",
     "text": [
      "Recommendations for Vendedores rotativos para tiendas Baby Infanti y Lego:\n",
      "\n"
     ]
    },
    {
     "ename": "UnicodeEncodeError",
     "evalue": "'ascii' codec can't encode characters in position 20-21: ordinal not in range(128)",
     "output_type": "error",
     "traceback": [
      "\u001b[1;31m---------------------------------------------------------------------------\u001b[0m",
      "\u001b[1;31mUnicodeEncodeError\u001b[0m                        Traceback (most recent call last)",
      "\u001b[1;32m<ipython-input-138-280f930b540d>\u001b[0m in \u001b[0;36m<module>\u001b[1;34m()\u001b[0m\n\u001b[0;32m      6\u001b[0m         \u001b[1;32mprint\u001b[0m\u001b[1;33m(\u001b[0m\u001b[1;34m'Recommendations for {0}:\\n'\u001b[0m\u001b[1;33m.\u001b[0m\u001b[0mformat\u001b[0m\u001b[1;33m(\u001b[0m\u001b[0mrating_pivot\u001b[0m\u001b[1;33m.\u001b[0m\u001b[0mindex\u001b[0m\u001b[1;33m[\u001b[0m\u001b[0mquery_index\u001b[0m\u001b[1;33m]\u001b[0m\u001b[1;33m)\u001b[0m\u001b[1;33m)\u001b[0m\u001b[1;33m\u001b[0m\u001b[0m\n\u001b[0;32m      7\u001b[0m     \u001b[1;32melse\u001b[0m\u001b[1;33m:\u001b[0m\u001b[1;33m\u001b[0m\u001b[0m\n\u001b[1;32m----> 8\u001b[1;33m         \u001b[1;32mprint\u001b[0m\u001b[1;33m(\u001b[0m\u001b[1;34m'{0}: {1}, with distance of {2}:'\u001b[0m\u001b[1;33m.\u001b[0m\u001b[0mformat\u001b[0m\u001b[1;33m(\u001b[0m\u001b[0mi\u001b[0m\u001b[1;33m,\u001b[0m \u001b[0mrating_pivot\u001b[0m\u001b[1;33m.\u001b[0m\u001b[0mindex\u001b[0m\u001b[1;33m[\u001b[0m\u001b[0mindices\u001b[0m\u001b[1;33m.\u001b[0m\u001b[0mflatten\u001b[0m\u001b[1;33m(\u001b[0m\u001b[1;33m)\u001b[0m\u001b[1;33m[\u001b[0m\u001b[0mi\u001b[0m\u001b[1;33m]\u001b[0m\u001b[1;33m]\u001b[0m\u001b[1;33m,\u001b[0m \u001b[0mdistances\u001b[0m\u001b[1;33m.\u001b[0m\u001b[0mflatten\u001b[0m\u001b[1;33m(\u001b[0m\u001b[1;33m)\u001b[0m\u001b[1;33m[\u001b[0m\u001b[0mi\u001b[0m\u001b[1;33m]\u001b[0m\u001b[1;33m)\u001b[0m\u001b[1;33m)\u001b[0m\u001b[1;33m\u001b[0m\u001b[0m\n\u001b[0m\u001b[0;32m      9\u001b[0m \u001b[1;33m\u001b[0m\u001b[0m\n",
      "\u001b[1;31mUnicodeEncodeError\u001b[0m: 'ascii' codec can't encode characters in position 20-21: ordinal not in range(128)"
     ]
    }
   ],
   "source": [
    "query_index = np.random.choice(rating_pivot.shape[0])\n",
    "distances, indices = model_knn.kneighbors(rating_pivot.iloc[query_index, :].values.reshape(1, -1), n_neighbors = 3)\n",
    "\n",
    "for i in range(0, len(distances.flatten())):\n",
    "    if i == 0:\n",
    "        print('Recommendations for {0}:\\n'.format(rating_pivot.index[query_index]))\n",
    "    else:\n",
    "        print('{0}: {1}, with distance of {2}:'.format(i, rating_pivot.index[indices.flatten()[i]], distances.flatten()[i]))\n",
    "        "
   ]
  },
  {
   "cell_type": "code",
   "execution_count": null,
   "metadata": {},
   "outputs": [],
   "source": []
  },
  {
   "cell_type": "code",
   "execution_count": null,
   "metadata": {},
   "outputs": [],
   "source": []
  }
 ],
 "metadata": {
  "kernelspec": {
   "display_name": "Python 2",
   "language": "python",
   "name": "python2"
  },
  "language_info": {
   "codemirror_mode": {
    "name": "ipython",
    "version": 2
   },
   "file_extension": ".py",
   "mimetype": "text/x-python",
   "name": "python",
   "nbconvert_exporter": "python",
   "pygments_lexer": "ipython2",
   "version": "2.7.15"
  }
 },
 "nbformat": 4,
 "nbformat_minor": 2
}
